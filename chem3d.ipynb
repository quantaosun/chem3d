{
 "cells": [
  {
   "cell_type": "markdown",
   "id": "0c9af4fe-e2a9-4336-b90e-1855fd214fb4",
   "metadata": {
    "tags": []
   },
   "source": [
    "# Lead molecule conformation searching in aquesou solution\n",
    "-Input a SMILES string\n",
    "- Click run all cells from top left Run menu\n",
    "- The logic behind this, is we will use GAFF force field to parameterize the organic molecule, then a Newtonian dynamics of this small molecule and thousands of surronding water/ion molecules, will be simulated all together, to finally give a stable conformation for this small molecule during the interaciton with its aqueous surrounding.\n",
    "- This method is more reliable in drug development project since it is more close to the real in vivo cell solution, compared to some other vacuum mehtod having no solvent involved at all."
   ]
  },
  {
   "cell_type": "code",
   "execution_count": 200,
   "id": "vocational-evans",
   "metadata": {},
   "outputs": [],
   "source": [
    "import BioSimSpace as BSS"
   ]
  },
  {
   "cell_type": "code",
   "execution_count": null,
   "id": "painful-massage",
   "metadata": {},
   "outputs": [],
   "source": [
    "organic = BSS.Parameters.gaff(\"c1ccccc1\").getMolecule()"
   ]
  },
  {
   "cell_type": "markdown",
   "id": "eb3f65c2-8afd-4a1c-9ad8-a4aaf271fb22",
   "metadata": {
    "jp-MarkdownHeadingCollapsed": true,
    "tags": []
   },
   "source": [
    "# Setting up"
   ]
  },
  {
   "cell_type": "code",
   "execution_count": null,
   "id": "perceived-immune",
   "metadata": {},
   "outputs": [],
   "source": [
    "box, angles = BSS.Box.truncatedOctahedron(10*BSS.Units.Length.nanometer)\n",
    "print(box, angles)"
   ]
  },
  {
   "cell_type": "code",
   "execution_count": null,
   "id": "focused-hampton",
   "metadata": {},
   "outputs": [],
   "source": [
    "box_min, box_max = organic.getAxisAlignedBoundingBox()\n",
    "box_size = [y - x for x, y in zip(box_min, box_max)]\n",
    "padding = 15 * BSS.Units.Length.angstrom\n",
    "box_length = max(box_size) + 2*padding"
   ]
  },
  {
   "cell_type": "code",
   "execution_count": null,
   "id": "spiritual-mystery",
   "metadata": {},
   "outputs": [],
   "source": [
    "solvated = BSS.Solvent.tip3p(molecule=organic, box=3*[box_length])"
   ]
  },
  {
   "cell_type": "code",
   "execution_count": null,
   "id": "moderate-snapshot",
   "metadata": {},
   "outputs": [],
   "source": [
    "print(f\"solvated = {solvated.charge()}, organic = {organic.charge()}\")"
   ]
  },
  {
   "cell_type": "markdown",
   "id": "f5f3de8f-cc19-4e9e-9062-8f16a5a3343a",
   "metadata": {},
   "source": [
    "# View"
   ]
  },
  {
   "cell_type": "code",
   "execution_count": null,
   "id": "fewer-pennsylvania",
   "metadata": {
    "tags": []
   },
   "outputs": [],
   "source": [
    "view = BSS.Notebook.View(solvated)\n",
    "view.system()"
   ]
  },
  {
   "cell_type": "markdown",
   "id": "007b6c60-6129-419f-80d6-1c11360bae8f",
   "metadata": {
    "jp-MarkdownHeadingCollapsed": true,
    "tags": []
   },
   "source": [
    "# Minimization"
   ]
  },
  {
   "cell_type": "code",
   "execution_count": null,
   "id": "harmful-muslim",
   "metadata": {},
   "outputs": [],
   "source": [
    "BSS.IO.saveMolecules(\"solvated\", solvated, [\"prm7\", \"rst7\"])"
   ]
  },
  {
   "cell_type": "code",
   "execution_count": null,
   "id": "5dc87de3-e1c0-475c-a240-619a442a81c2",
   "metadata": {},
   "outputs": [],
   "source": [
    "BSS.Process.engines()"
   ]
  },
  {
   "cell_type": "code",
   "execution_count": null,
   "id": "b0a175a5-d65a-4c38-8e57-88d01dee0cec",
   "metadata": {},
   "outputs": [],
   "source": [
    "system = BSS.IO.readMolecules(\"./solvated*\")"
   ]
  },
  {
   "cell_type": "code",
   "execution_count": null,
   "id": "08097ed0-8b64-41e5-8357-08f36b16a33f",
   "metadata": {},
   "outputs": [],
   "source": [
    "protocol = BSS.Protocol.Minimisation(steps=1000)"
   ]
  },
  {
   "cell_type": "code",
   "execution_count": null,
   "id": "be3014bf-1299-4a6e-a899-17ac69d9f100",
   "metadata": {},
   "outputs": [],
   "source": [
    "process = BSS.Process.OpenMM(system, protocol)"
   ]
  },
  {
   "cell_type": "code",
   "execution_count": null,
   "id": "02619d4f-e3d8-4285-9025-18bf941b60dc",
   "metadata": {},
   "outputs": [],
   "source": [
    "process.start()"
   ]
  },
  {
   "cell_type": "code",
   "execution_count": null,
   "id": "69bb5f91-99bd-406d-9c89-603b97dbb321",
   "metadata": {},
   "outputs": [],
   "source": [
    "process.isRunning()"
   ]
  },
  {
   "cell_type": "code",
   "execution_count": null,
   "id": "5bfd194c-68cb-47e3-93b8-4d3fa077348e",
   "metadata": {},
   "outputs": [],
   "source": [
    "process.runTime()"
   ]
  },
  {
   "cell_type": "markdown",
   "id": "5f9c8d47-d9fe-4d4f-b7bd-22fecc8f962b",
   "metadata": {
    "jp-MarkdownHeadingCollapsed": true,
    "tags": []
   },
   "source": [
    "# Rfresh the system defination & NVT Equilibration"
   ]
  },
  {
   "cell_type": "code",
   "execution_count": null,
   "id": "b3578980-58f1-4bd7-8727-fd005e24201b",
   "metadata": {},
   "outputs": [],
   "source": [
    "minimised = process.getSystem()"
   ]
  },
  {
   "cell_type": "code",
   "execution_count": null,
   "id": "f0be9503-1882-4884-83ef-74d10fab29b0",
   "metadata": {},
   "outputs": [],
   "source": [
    "#protocol = BSS.Protocol.Equilibration()\n",
    "#print(protocol)"
   ]
  },
  {
   "cell_type": "code",
   "execution_count": null,
   "id": "6bfa3f09-a6a5-43a2-b606-33f2a82e4546",
   "metadata": {},
   "outputs": [],
   "source": [
    "protocol = BSS.Protocol.Equilibration(runtime=5*BSS.Units.Time.picosecond,\n",
    "                                      temperature_start=0*BSS.Units.Temperature.kelvin,\n",
    "                                      temperature_end=300*BSS.Units.Temperature.kelvin,\n",
    "                                      restraint=None)"
   ]
  },
  {
   "cell_type": "code",
   "execution_count": null,
   "id": "3fccd9b4-e14b-46d3-a36d-a504b0e298d4",
   "metadata": {},
   "outputs": [],
   "source": [
    "process = BSS.Process.OpenMM(minimised, protocol)"
   ]
  },
  {
   "cell_type": "code",
   "execution_count": null,
   "id": "77cc1ae6-aca8-4f91-abba-8bc19cbf269c",
   "metadata": {},
   "outputs": [],
   "source": [
    "process.inputFiles()"
   ]
  },
  {
   "cell_type": "code",
   "execution_count": null,
   "id": "c7468512-12f7-4b81-bee1-6c5c9cba91db",
   "metadata": {},
   "outputs": [],
   "source": [
    "process.start()"
   ]
  },
  {
   "cell_type": "code",
   "execution_count": null,
   "id": "fbeb11af-12f7-4475-a3fc-abd6168c2904",
   "metadata": {},
   "outputs": [],
   "source": [
    "process.isRunning()"
   ]
  },
  {
   "cell_type": "code",
   "execution_count": null,
   "id": "900084e5-3e5e-455b-9794-3969e4e5ad3d",
   "metadata": {},
   "outputs": [],
   "source": [
    "process.runTime()"
   ]
  },
  {
   "cell_type": "markdown",
   "id": "99ae0f75-65ba-4bdd-ae85-1eae4b5e0057",
   "metadata": {
    "jp-MarkdownHeadingCollapsed": true,
    "tags": []
   },
   "source": [
    "# NVT progress\n",
    "- A total time of 20 ps is designed "
   ]
  },
  {
   "cell_type": "code",
   "execution_count": null,
   "id": "4c1cfb67-b9c7-41dd-a571-b4f57b972549",
   "metadata": {},
   "outputs": [],
   "source": [
    "plot1 = BSS.Notebook.plot(process.getTime(time_series=True), process.getTemperature(time_series=True))"
   ]
  },
  {
   "cell_type": "code",
   "execution_count": null,
   "id": "79a0ae4e-b23f-4578-a333-bb41574f7f23",
   "metadata": {},
   "outputs": [],
   "source": [
    "plot = BSS.Notebook.plot(process.getTime(time_series=True), process.getTotalEnergy(time_series=True))"
   ]
  },
  {
   "cell_type": "markdown",
   "id": "23a83674-4f4e-4682-966e-37c2558524df",
   "metadata": {
    "tags": []
   },
   "source": [
    "## Rfresh the system defination & NPT Equilibration"
   ]
  },
  {
   "cell_type": "code",
   "execution_count": null,
   "id": "65125c5f-fd91-47c1-a46e-f2a615afeedf",
   "metadata": {},
   "outputs": [],
   "source": [
    "nvt= process.getSystem(block='True')"
   ]
  },
  {
   "cell_type": "markdown",
   "id": "57d5581a-88c4-4f1f-b382-a12e772c20bb",
   "metadata": {
    "jp-MarkdownHeadingCollapsed": true,
    "tags": []
   },
   "source": [
    "# NPT equlibration"
   ]
  },
  {
   "cell_type": "code",
   "execution_count": null,
   "id": "2acb8c05-43f0-4f2a-95dc-d846a8768af1",
   "metadata": {},
   "outputs": [],
   "source": [
    "#protocol = BSS.Protocol.Equilibration(runtime=5*BSS.Units.Time.nanosecond,\n",
    "#                                     pressure=BSS.Units.Pressure.atm,\n",
    "#                                     report_interval=2500,\n",
    "#                                     restart_interval=25000,\n",
    "#                                     restraint=None)"
   ]
  },
  {
   "cell_type": "code",
   "execution_count": null,
   "id": "fe421522-d0d9-44dc-a69c-5a8b6b869b67",
   "metadata": {},
   "outputs": [],
   "source": [
    "#process = BSS.Process.OpenMM(nvt, protocol)"
   ]
  },
  {
   "cell_type": "code",
   "execution_count": null,
   "id": "5cc9bdb2-3e2b-43cb-a8a4-29a3e2f19833",
   "metadata": {},
   "outputs": [],
   "source": [
    "#process.start()"
   ]
  },
  {
   "cell_type": "markdown",
   "id": "42062305-cf99-4073-8e6d-4663f103f67c",
   "metadata": {
    "tags": []
   },
   "source": [
    "# NPT progress"
   ]
  },
  {
   "cell_type": "markdown",
   "id": "86570a24-be82-4754-8a3c-0bb52c8def7e",
   "metadata": {
    "jp-MarkdownHeadingCollapsed": true,
    "tags": []
   },
   "source": [
    "# Save result\n",
    "- The file named as simulated.pdb is the file you need download\n",
    "- This simulated.pdb has the conformation that this molecule propbably to adopt in a aqueous solution"
   ]
  },
  {
   "cell_type": "code",
   "execution_count": null,
   "id": "7ec6f84e-a05b-4d21-a998-0c739df4de03",
   "metadata": {},
   "outputs": [],
   "source": [
    "view.savePDB(\"simulated.pdb\", index=0)"
   ]
  },
  {
   "cell_type": "code",
   "execution_count": null,
   "id": "bea84762-3d16-4b26-818d-63bd71d48714",
   "metadata": {},
   "outputs": [],
   "source": [
    "#npt= process.getSystem()"
   ]
  },
  {
   "cell_type": "code",
   "execution_count": null,
   "id": "27990ff6-446d-4a38-a8c0-3e5344f3e242",
   "metadata": {},
   "outputs": [],
   "source": [
    "view = BSS.Notebook.View(process)"
   ]
  },
  {
   "cell_type": "markdown",
   "id": "9d8c41d8-102e-47ef-9e91-bae10b97d4c6",
   "metadata": {},
   "source": [
    "# Visualization"
   ]
  },
  {
   "cell_type": "code",
   "execution_count": null,
   "id": "5949db0f-3ced-499a-ad49-10398f441f57",
   "metadata": {},
   "outputs": [],
   "source": [
    "view.molecule(1)"
   ]
  }
 ],
 "metadata": {
  "kernelspec": {
   "display_name": "Python 3 (ipykernel)",
   "language": "python",
   "name": "python3"
  },
  "language_info": {
   "codemirror_mode": {
    "name": "ipython",
    "version": 3
   },
   "file_extension": ".py",
   "mimetype": "text/x-python",
   "name": "python",
   "nbconvert_exporter": "python",
   "pygments_lexer": "ipython3",
   "version": "3.9.13"
  }
 },
 "nbformat": 4,
 "nbformat_minor": 5
}
