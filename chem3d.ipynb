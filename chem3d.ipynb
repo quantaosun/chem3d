{
 "cells": [
  {
   "cell_type": "markdown",
   "id": "0c9af4fe-e2a9-4336-b90e-1855fd214fb4",
   "metadata": {
    "tags": []
   },
   "source": [
    "# Generate the most likely conformation of an organic molecule"
   ]
  },
  {
   "cell_type": "code",
   "execution_count": 114,
   "id": "vocational-evans",
   "metadata": {},
   "outputs": [],
   "source": [
    "import BioSimSpace as BSS"
   ]
  },
  {
   "cell_type": "code",
   "execution_count": 115,
   "id": "painful-massage",
   "metadata": {},
   "outputs": [],
   "source": [
    "organic = BSS.Parameters.gaff(\"c1ccccc1\").getMolecule()"
   ]
  },
  {
   "cell_type": "markdown",
   "id": "eb3f65c2-8afd-4a1c-9ad8-a4aaf271fb22",
   "metadata": {
    "jp-MarkdownHeadingCollapsed": true,
    "tags": []
   },
   "source": [
    "# Setting up"
   ]
  },
  {
   "cell_type": "code",
   "execution_count": 116,
   "id": "perceived-immune",
   "metadata": {},
   "outputs": [
    {
     "name": "stdout",
     "output_type": "stream",
     "text": [
      "[100.0000 A, 100.0000 A, 100.0000 A] [109.4712 degrees, 70.5288 degrees, 70.5288 degrees]\n"
     ]
    }
   ],
   "source": [
    "box, angles = BSS.Box.truncatedOctahedron(10*BSS.Units.Length.nanometer)\n",
    "print(box, angles)"
   ]
  },
  {
   "cell_type": "code",
   "execution_count": 117,
   "id": "focused-hampton",
   "metadata": {},
   "outputs": [],
   "source": [
    "box_min, box_max = organic.getAxisAlignedBoundingBox()\n",
    "box_size = [y - x for x, y in zip(box_min, box_max)]\n",
    "padding = 15 * BSS.Units.Length.angstrom\n",
    "box_length = max(box_size) + 2*padding"
   ]
  },
  {
   "cell_type": "code",
   "execution_count": 118,
   "id": "spiritual-mystery",
   "metadata": {},
   "outputs": [],
   "source": [
    "solvated = BSS.Solvent.tip3p(molecule=organic, box=3*[box_length])"
   ]
  },
  {
   "cell_type": "code",
   "execution_count": 119,
   "id": "moderate-snapshot",
   "metadata": {},
   "outputs": [
    {
     "name": "stdout",
     "output_type": "stream",
     "text": [
      "solvated = -0.0000e+00 |e|, protein = -0.0000e+00 |e|\n"
     ]
    }
   ],
   "source": [
    "print(f\"solvated = {solvated.charge()}, protein = {organic.charge()}\")"
   ]
  },
  {
   "cell_type": "markdown",
   "id": "f5f3de8f-cc19-4e9e-9062-8f16a5a3343a",
   "metadata": {},
   "source": [
    "# View"
   ]
  },
  {
   "cell_type": "code",
   "execution_count": 120,
   "id": "fewer-pennsylvania",
   "metadata": {},
   "outputs": [
    {
     "data": {
      "application/vnd.jupyter.widget-view+json": {
       "model_id": "c456e81072ef4301a5f5a9f5aaaea858",
       "version_major": 2,
       "version_minor": 0
      },
      "text/plain": [
       "NGLWidget(gui_style='ngl')"
      ]
     },
     "metadata": {},
     "output_type": "display_data"
    }
   ],
   "source": [
    "view = BSS.Notebook.View(solvated)\n",
    "view.system()"
   ]
  },
  {
   "cell_type": "markdown",
   "id": "007b6c60-6129-419f-80d6-1c11360bae8f",
   "metadata": {
    "jp-MarkdownHeadingCollapsed": true,
    "tags": []
   },
   "source": [
    "# Simulation"
   ]
  },
  {
   "cell_type": "code",
   "execution_count": 121,
   "id": "harmful-muslim",
   "metadata": {},
   "outputs": [
    {
     "data": {
      "text/plain": [
       "['/home/jovyan/solvated.prm7', '/home/jovyan/solvated.rst7']"
      ]
     },
     "execution_count": 121,
     "metadata": {},
     "output_type": "execute_result"
    }
   ],
   "source": [
    "BSS.IO.saveMolecules(\"solvated\", solvated, [\"prm7\", \"rst7\"])"
   ]
  },
  {
   "cell_type": "code",
   "execution_count": 122,
   "id": "7aad2099-ca4c-49e6-a867-6816fd623da9",
   "metadata": {},
   "outputs": [
    {
     "name": "stdout",
     "output_type": "stream",
     "text": [
      "<BioSimSpace.Protocol.Equilibration: timestep=2.0000 fs, runtime=0.2000 ns, temperature_start=300.0000 K, temperature_end=300.0000 K, pressure=None, report_interval=100, restart_interval=500,restraint=None, force_constant=10.00 kcal_per_mol/angstrom**2>\n"
     ]
    }
   ],
   "source": [
    "protocol = BSS.Protocol.Equilibration()\n",
    "print(protocol)"
   ]
  },
  {
   "cell_type": "code",
   "execution_count": 123,
   "id": "5dc87de3-e1c0-475c-a240-619a442a81c2",
   "metadata": {},
   "outputs": [
    {
     "data": {
      "text/plain": [
       "['Amber', 'Gromacs', 'Namd', 'OpenMM', 'Somd']"
      ]
     },
     "execution_count": 123,
     "metadata": {},
     "output_type": "execute_result"
    }
   ],
   "source": [
    "BSS.Process.engines()"
   ]
  },
  {
   "cell_type": "code",
   "execution_count": 124,
   "id": "b0a175a5-d65a-4c38-8e57-88d01dee0cec",
   "metadata": {},
   "outputs": [],
   "source": [
    "system = BSS.IO.readMolecules(\"./solvated*\")"
   ]
  },
  {
   "cell_type": "code",
   "execution_count": 125,
   "id": "08097ed0-8b64-41e5-8357-08f36b16a33f",
   "metadata": {},
   "outputs": [],
   "source": [
    "protocol = BSS.Protocol.Minimisation(steps=1000)"
   ]
  },
  {
   "cell_type": "code",
   "execution_count": 126,
   "id": "be3014bf-1299-4a6e-a899-17ac69d9f100",
   "metadata": {},
   "outputs": [],
   "source": [
    "process = BSS.Process.Amber(system, protocol)"
   ]
  },
  {
   "cell_type": "code",
   "execution_count": 127,
   "id": "784f8ba5-5dfa-432c-8836-3f69a10b4df7",
   "metadata": {},
   "outputs": [
    {
     "data": {
      "text/plain": [
       "'/tmp/tmpzxsuomql'"
      ]
     },
     "execution_count": 127,
     "metadata": {},
     "output_type": "execute_result"
    }
   ],
   "source": [
    "process.workDir()"
   ]
  },
  {
   "cell_type": "code",
   "execution_count": 128,
   "id": "cc598e1b-dfa2-4c40-bd49-115177e74da4",
   "metadata": {},
   "outputs": [
    {
     "data": {
      "text/plain": [
       "'/srv/conda/envs/notebook/bin/sander'"
      ]
     },
     "execution_count": 128,
     "metadata": {},
     "output_type": "execute_result"
    }
   ],
   "source": [
    "process.exe()"
   ]
  },
  {
   "cell_type": "code",
   "execution_count": 129,
   "id": "97c2e681-9d9e-4c47-86ae-c24bc928bf10",
   "metadata": {},
   "outputs": [
    {
     "data": {
      "text/plain": [
       "['/tmp/tmpzxsuomql/amber.cfg',\n",
       " '/tmp/tmpzxsuomql/amber.rst7',\n",
       " '/tmp/tmpzxsuomql/amber.prm7']"
      ]
     },
     "execution_count": 129,
     "metadata": {},
     "output_type": "execute_result"
    }
   ],
   "source": [
    "process.inputFiles()"
   ]
  },
  {
   "cell_type": "code",
   "execution_count": 130,
   "id": "02619d4f-e3d8-4285-9025-18bf941b60dc",
   "metadata": {},
   "outputs": [
    {
     "data": {
      "text/plain": [
       "BioSimSpace.Process.Amber(<BioSimSpace.System: nMolecules=1362>, BioSimSpace.Protocol.Minimisation(steps=1000), exe='/srv/conda/envs/notebook/bin/sander', name='amber', work_dir='/tmp/tmpzxsuomql', seed=None)"
      ]
     },
     "execution_count": 130,
     "metadata": {},
     "output_type": "execute_result"
    }
   ],
   "source": [
    "process.start()"
   ]
  },
  {
   "cell_type": "code",
   "execution_count": 212,
   "id": "69bb5f91-99bd-406d-9c89-603b97dbb321",
   "metadata": {},
   "outputs": [
    {
     "data": {
      "text/plain": [
       "True"
      ]
     },
     "execution_count": 212,
     "metadata": {},
     "output_type": "execute_result"
    }
   ],
   "source": [
    "process.isRunning()"
   ]
  },
  {
   "cell_type": "code",
   "execution_count": null,
   "id": "1005b7c6-ceb2-43e4-9208-e96f9b1f5850",
   "metadata": {},
   "outputs": [],
   "source": []
  },
  {
   "cell_type": "code",
   "execution_count": 174,
   "id": "5bfd194c-68cb-47e3-93b8-4d3fa077348e",
   "metadata": {},
   "outputs": [
    {
     "data": {
      "text/plain": [
       "0.5183 mins"
      ]
     },
     "execution_count": 174,
     "metadata": {},
     "output_type": "execute_result"
    }
   ],
   "source": [
    "process.runTime()"
   ]
  },
  {
   "cell_type": "code",
   "execution_count": 111,
   "id": "b3578980-58f1-4bd7-8727-fd005e24201b",
   "metadata": {},
   "outputs": [],
   "source": [
    "minimised = process.getSystem()"
   ]
  },
  {
   "cell_type": "markdown",
   "id": "92a2734c-e6dd-4153-8b51-e0321c7272ca",
   "metadata": {
    "jp-MarkdownHeadingCollapsed": true,
    "tags": []
   },
   "source": [
    "# Equlibration"
   ]
  },
  {
   "cell_type": "code",
   "execution_count": 112,
   "id": "195af7fa-f3b0-4ff4-88c8-7413873f04fe",
   "metadata": {},
   "outputs": [],
   "source": [
    "protocol = BSS.Protocol.Equilibration(runtime=20*BSS.Units.Time.picosecond,\n",
    "                                      temperature_start=0*BSS.Units.Temperature.kelvin,\n",
    "                                      temperature_end=300*BSS.Units.Temperature.kelvin,\n",
    "                                      restraint=None)"
   ]
  },
  {
   "cell_type": "code",
   "execution_count": 113,
   "id": "2a65abf9-c321-4daf-bf05-f0a7c1f3b137",
   "metadata": {},
   "outputs": [
    {
     "data": {
      "text/html": [
       "<pre style=\"white-space:pre;overflow-x:auto;line-height:normal;font-family:Menlo,'DejaVu Sans Mono',consolas,'Courier New',monospace\"><span style=\"color: #800000; text-decoration-color: #800000\">╭─────────────────────────────── </span><span style=\"color: #800000; text-decoration-color: #800000; font-weight: bold\">Traceback </span><span style=\"color: #bf7f7f; text-decoration-color: #bf7f7f; font-weight: bold\">(most recent call last)</span><span style=\"color: #800000; text-decoration-color: #800000\"> ────────────────────────────────╮</span>\n",
       "<span style=\"color: #800000; text-decoration-color: #800000\">│</span> in <span style=\"color: #00ff00; text-decoration-color: #00ff00\">&lt;module&gt;</span>                                                                                      <span style=\"color: #800000; text-decoration-color: #800000\">│</span>\n",
       "<span style=\"color: #800000; text-decoration-color: #800000\">│</span>                                                                                                  <span style=\"color: #800000; text-decoration-color: #800000\">│</span>\n",
       "<span style=\"color: #800000; text-decoration-color: #800000\">│</span> <span style=\"color: #800000; text-decoration-color: #800000\">❱ </span>1 process = BSS.Process.Amber(minimised, protocol).start()                                     <span style=\"color: #800000; text-decoration-color: #800000\">│</span>\n",
       "<span style=\"color: #800000; text-decoration-color: #800000\">│</span>   <span style=\"color: #7f7f7f; text-decoration-color: #7f7f7f\">2 </span>                                                                                             <span style=\"color: #800000; text-decoration-color: #800000\">│</span>\n",
       "<span style=\"color: #800000; text-decoration-color: #800000\">│</span>                                                                                                  <span style=\"color: #800000; text-decoration-color: #800000\">│</span>\n",
       "<span style=\"color: #800000; text-decoration-color: #800000\">│</span> <span style=\"color: #bfbf7f; text-decoration-color: #bfbf7f\">/srv/conda/envs/notebook/lib/python3.9/site-packages/BioSimSpace/Process/</span><span style=\"color: #808000; text-decoration-color: #808000; font-weight: bold\">_amber.py</span>:<span style=\"color: #0000ff; text-decoration-color: #0000ff\">218</span> in        <span style=\"color: #800000; text-decoration-color: #800000\">│</span>\n",
       "<span style=\"color: #800000; text-decoration-color: #800000\">│</span> <span style=\"color: #00ff00; text-decoration-color: #00ff00\">__init__</span>                                                                                         <span style=\"color: #800000; text-decoration-color: #800000\">│</span>\n",
       "<span style=\"color: #800000; text-decoration-color: #800000\">│</span>                                                                                                  <span style=\"color: #800000; text-decoration-color: #800000\">│</span>\n",
       "<span style=\"color: #800000; text-decoration-color: #800000\">│</span>   <span style=\"color: #7f7f7f; text-decoration-color: #7f7f7f\"> 215 </span><span style=\"color: #bfbf7f; text-decoration-color: #bfbf7f\">│   │   </span><span style=\"color: #808000; text-decoration-color: #808000\">\"\"\"</span>                                                                               <span style=\"color: #800000; text-decoration-color: #800000\">│</span>\n",
       "<span style=\"color: #800000; text-decoration-color: #800000\">│</span>   <span style=\"color: #7f7f7f; text-decoration-color: #7f7f7f\"> 216 │   │   </span>                                                                                  <span style=\"color: #800000; text-decoration-color: #800000\">│</span>\n",
       "<span style=\"color: #800000; text-decoration-color: #800000\">│</span>   <span style=\"color: #7f7f7f; text-decoration-color: #7f7f7f\"> 217 │   │   # Call the base class constructor.</span>                                                <span style=\"color: #800000; text-decoration-color: #800000\">│</span>\n",
       "<span style=\"color: #800000; text-decoration-color: #800000\">│</span> <span style=\"color: #800000; text-decoration-color: #800000\">❱ </span> 218 <span style=\"color: #7f7f7f; text-decoration-color: #7f7f7f\">│   │   </span><span style=\"color: #00ffff; text-decoration-color: #00ffff\">super</span>().<span style=\"color: #00ff00; text-decoration-color: #00ff00\">__init__</span>(                                                                 <span style=\"color: #800000; text-decoration-color: #800000\">│</span>\n",
       "<span style=\"color: #800000; text-decoration-color: #800000\">│</span>   <span style=\"color: #7f7f7f; text-decoration-color: #7f7f7f\"> 219 │   │   │   </span>system,                                                                       <span style=\"color: #800000; text-decoration-color: #800000\">│</span>\n",
       "<span style=\"color: #800000; text-decoration-color: #800000\">│</span>   <span style=\"color: #7f7f7f; text-decoration-color: #7f7f7f\"> 220 │   │   │   </span>protocol,                                                                     <span style=\"color: #800000; text-decoration-color: #800000\">│</span>\n",
       "<span style=\"color: #800000; text-decoration-color: #800000\">│</span>   <span style=\"color: #7f7f7f; text-decoration-color: #7f7f7f\"> 221 │   │   │   </span>name=name,                                                                    <span style=\"color: #800000; text-decoration-color: #800000\">│</span>\n",
       "<span style=\"color: #800000; text-decoration-color: #800000\">│</span>                                                                                                  <span style=\"color: #800000; text-decoration-color: #800000\">│</span>\n",
       "<span style=\"color: #800000; text-decoration-color: #800000\">│</span> <span style=\"color: #bfbf7f; text-decoration-color: #bfbf7f\">/srv/conda/envs/notebook/lib/python3.9/site-packages/BioSimSpace/Process/</span><span style=\"color: #808000; text-decoration-color: #808000; font-weight: bold\">_process.py</span>:<span style=\"color: #0000ff; text-decoration-color: #0000ff\">124</span> in      <span style=\"color: #800000; text-decoration-color: #800000\">│</span>\n",
       "<span style=\"color: #800000; text-decoration-color: #800000\">│</span> <span style=\"color: #00ff00; text-decoration-color: #00ff00\">__init__</span>                                                                                         <span style=\"color: #800000; text-decoration-color: #800000\">│</span>\n",
       "<span style=\"color: #800000; text-decoration-color: #800000\">│</span>                                                                                                  <span style=\"color: #800000; text-decoration-color: #800000\">│</span>\n",
       "<span style=\"color: #800000; text-decoration-color: #800000\">│</span>   <span style=\"color: #7f7f7f; text-decoration-color: #7f7f7f\"> 121 │   │   </span>                                                                                  <span style=\"color: #800000; text-decoration-color: #800000\">│</span>\n",
       "<span style=\"color: #800000; text-decoration-color: #800000\">│</span>   <span style=\"color: #7f7f7f; text-decoration-color: #7f7f7f\"> 122 │   │   # Check that the system is valid.</span>                                                 <span style=\"color: #800000; text-decoration-color: #800000\">│</span>\n",
       "<span style=\"color: #800000; text-decoration-color: #800000\">│</span>   <span style=\"color: #7f7f7f; text-decoration-color: #7f7f7f\"> 123 │   │   </span><span style=\"color: #0000ff; text-decoration-color: #0000ff\">if</span> <span style=\"color: #ff00ff; text-decoration-color: #ff00ff\">not</span> <span style=\"color: #00ffff; text-decoration-color: #00ffff\">isinstance</span>(system, _System):                                               <span style=\"color: #800000; text-decoration-color: #800000\">│</span>\n",
       "<span style=\"color: #800000; text-decoration-color: #800000\">│</span> <span style=\"color: #800000; text-decoration-color: #800000\">❱ </span> 124 <span style=\"color: #7f7f7f; text-decoration-color: #7f7f7f\">│   │   │   </span><span style=\"color: #0000ff; text-decoration-color: #0000ff\">raise</span> <span style=\"color: #00ffff; text-decoration-color: #00ffff\">TypeError</span>(                                                              <span style=\"color: #800000; text-decoration-color: #800000\">│</span>\n",
       "<span style=\"color: #800000; text-decoration-color: #800000\">│</span>   <span style=\"color: #7f7f7f; text-decoration-color: #7f7f7f\"> 125 │   │   │   │   </span><span style=\"color: #808000; text-decoration-color: #808000\">\"'system' must be of type 'BioSimSpace._SireWrappers.System'\"</span>             <span style=\"color: #800000; text-decoration-color: #800000\">│</span>\n",
       "<span style=\"color: #800000; text-decoration-color: #800000\">│</span>   <span style=\"color: #7f7f7f; text-decoration-color: #7f7f7f\"> 126 │   │   │   </span>)                                                                             <span style=\"color: #800000; text-decoration-color: #800000\">│</span>\n",
       "<span style=\"color: #800000; text-decoration-color: #800000\">│</span>   <span style=\"color: #7f7f7f; text-decoration-color: #7f7f7f\"> 127 </span>                                                                                          <span style=\"color: #800000; text-decoration-color: #800000\">│</span>\n",
       "<span style=\"color: #800000; text-decoration-color: #800000\">╰──────────────────────────────────────────────────────────────────────────────────────────────────╯</span>\n",
       "<span style=\"color: #ff0000; text-decoration-color: #ff0000; font-weight: bold\">TypeError: </span><span style=\"color: #008000; text-decoration-color: #008000\">'system'</span> must be of type <span style=\"color: #008000; text-decoration-color: #008000\">'BioSimSpace._SireWrappers.System'</span>\n",
       "</pre>\n"
      ],
      "text/plain": [
       "\u001b[31m╭─\u001b[0m\u001b[31m──────────────────────────────\u001b[0m\u001b[31m \u001b[0m\u001b[1;31mTraceback \u001b[0m\u001b[1;2;31m(most recent call last)\u001b[0m\u001b[31m \u001b[0m\u001b[31m───────────────────────────────\u001b[0m\u001b[31m─╮\u001b[0m\n",
       "\u001b[31m│\u001b[0m in \u001b[92m<module>\u001b[0m                                                                                      \u001b[31m│\u001b[0m\n",
       "\u001b[31m│\u001b[0m                                                                                                  \u001b[31m│\u001b[0m\n",
       "\u001b[31m│\u001b[0m \u001b[31m❱ \u001b[0m1 process = BSS.Process.Amber(minimised, protocol).start()                                     \u001b[31m│\u001b[0m\n",
       "\u001b[31m│\u001b[0m   \u001b[2m2 \u001b[0m                                                                                             \u001b[31m│\u001b[0m\n",
       "\u001b[31m│\u001b[0m                                                                                                  \u001b[31m│\u001b[0m\n",
       "\u001b[31m│\u001b[0m \u001b[2;33m/srv/conda/envs/notebook/lib/python3.9/site-packages/BioSimSpace/Process/\u001b[0m\u001b[1;33m_amber.py\u001b[0m:\u001b[94m218\u001b[0m in        \u001b[31m│\u001b[0m\n",
       "\u001b[31m│\u001b[0m \u001b[92m__init__\u001b[0m                                                                                         \u001b[31m│\u001b[0m\n",
       "\u001b[31m│\u001b[0m                                                                                                  \u001b[31m│\u001b[0m\n",
       "\u001b[31m│\u001b[0m   \u001b[2m 215 \u001b[0m\u001b[2;33m│   │   \u001b[0m\u001b[33m\"\"\"\u001b[0m                                                                               \u001b[31m│\u001b[0m\n",
       "\u001b[31m│\u001b[0m   \u001b[2m 216 \u001b[0m\u001b[2m│   │   \u001b[0m                                                                                  \u001b[31m│\u001b[0m\n",
       "\u001b[31m│\u001b[0m   \u001b[2m 217 \u001b[0m\u001b[2m│   │   \u001b[0m\u001b[2m# Call the base class constructor.\u001b[0m                                                \u001b[31m│\u001b[0m\n",
       "\u001b[31m│\u001b[0m \u001b[31m❱ \u001b[0m 218 \u001b[2m│   │   \u001b[0m\u001b[96msuper\u001b[0m().\u001b[92m__init__\u001b[0m(                                                                 \u001b[31m│\u001b[0m\n",
       "\u001b[31m│\u001b[0m   \u001b[2m 219 \u001b[0m\u001b[2m│   │   │   \u001b[0msystem,                                                                       \u001b[31m│\u001b[0m\n",
       "\u001b[31m│\u001b[0m   \u001b[2m 220 \u001b[0m\u001b[2m│   │   │   \u001b[0mprotocol,                                                                     \u001b[31m│\u001b[0m\n",
       "\u001b[31m│\u001b[0m   \u001b[2m 221 \u001b[0m\u001b[2m│   │   │   \u001b[0mname=name,                                                                    \u001b[31m│\u001b[0m\n",
       "\u001b[31m│\u001b[0m                                                                                                  \u001b[31m│\u001b[0m\n",
       "\u001b[31m│\u001b[0m \u001b[2;33m/srv/conda/envs/notebook/lib/python3.9/site-packages/BioSimSpace/Process/\u001b[0m\u001b[1;33m_process.py\u001b[0m:\u001b[94m124\u001b[0m in      \u001b[31m│\u001b[0m\n",
       "\u001b[31m│\u001b[0m \u001b[92m__init__\u001b[0m                                                                                         \u001b[31m│\u001b[0m\n",
       "\u001b[31m│\u001b[0m                                                                                                  \u001b[31m│\u001b[0m\n",
       "\u001b[31m│\u001b[0m   \u001b[2m 121 \u001b[0m\u001b[2m│   │   \u001b[0m                                                                                  \u001b[31m│\u001b[0m\n",
       "\u001b[31m│\u001b[0m   \u001b[2m 122 \u001b[0m\u001b[2m│   │   \u001b[0m\u001b[2m# Check that the system is valid.\u001b[0m                                                 \u001b[31m│\u001b[0m\n",
       "\u001b[31m│\u001b[0m   \u001b[2m 123 \u001b[0m\u001b[2m│   │   \u001b[0m\u001b[94mif\u001b[0m \u001b[95mnot\u001b[0m \u001b[96misinstance\u001b[0m(system, _System):                                               \u001b[31m│\u001b[0m\n",
       "\u001b[31m│\u001b[0m \u001b[31m❱ \u001b[0m 124 \u001b[2m│   │   │   \u001b[0m\u001b[94mraise\u001b[0m \u001b[96mTypeError\u001b[0m(                                                              \u001b[31m│\u001b[0m\n",
       "\u001b[31m│\u001b[0m   \u001b[2m 125 \u001b[0m\u001b[2m│   │   │   │   \u001b[0m\u001b[33m\"\u001b[0m\u001b[33m'\u001b[0m\u001b[33msystem\u001b[0m\u001b[33m'\u001b[0m\u001b[33m must be of type \u001b[0m\u001b[33m'\u001b[0m\u001b[33mBioSimSpace._SireWrappers.System\u001b[0m\u001b[33m'\u001b[0m\u001b[33m\"\u001b[0m             \u001b[31m│\u001b[0m\n",
       "\u001b[31m│\u001b[0m   \u001b[2m 126 \u001b[0m\u001b[2m│   │   │   \u001b[0m)                                                                             \u001b[31m│\u001b[0m\n",
       "\u001b[31m│\u001b[0m   \u001b[2m 127 \u001b[0m                                                                                          \u001b[31m│\u001b[0m\n",
       "\u001b[31m╰──────────────────────────────────────────────────────────────────────────────────────────────────╯\u001b[0m\n",
       "\u001b[1;91mTypeError: \u001b[0m\u001b[32m'system'\u001b[0m must be of type \u001b[32m'BioSimSpace._SireWrappers.System'\u001b[0m\n"
      ]
     },
     "metadata": {},
     "output_type": "display_data"
    }
   ],
   "source": [
    "process = BSS.Process.Amber(minimised, protocol).start()"
   ]
  },
  {
   "cell_type": "code",
   "execution_count": 103,
   "id": "1a107d25-9fd8-4b91-b2f5-dce1132e1b48",
   "metadata": {},
   "outputs": [
    {
     "name": "stdout",
     "output_type": "stream",
     "text": [
      "0.0000e+00 ps 0.0200 K -8172.8328 kcal/mol\n"
     ]
    }
   ],
   "source": [
    "print(process.getTime(), process.getTemperature(), process.getTotalEnergy())"
   ]
  },
  {
   "cell_type": "code",
   "execution_count": 107,
   "id": "924274f5-e2db-4095-be28-6c7be605f892",
   "metadata": {},
   "outputs": [
    {
     "name": "stdout",
     "output_type": "stream",
     "text": [
      "0.0000e+00 ns -273.1300 C -3.4195e+04 kJ/mol\n"
     ]
    }
   ],
   "source": [
    "print(process.getTime().nanoseconds(), process.getTemperature().celsius(), process.getTotalEnergy().kj_per_mol())"
   ]
  },
  {
   "cell_type": "markdown",
   "id": "23a83674-4f4e-4682-966e-37c2558524df",
   "metadata": {
    "jp-MarkdownHeadingCollapsed": true,
    "tags": []
   },
   "source": [
    "# nvt will be used in the NPT simulation"
   ]
  },
  {
   "cell_type": "code",
   "execution_count": 301,
   "id": "65125c5f-fd91-47c1-a46e-f2a615afeedf",
   "metadata": {},
   "outputs": [],
   "source": [
    "nvt= process.getSystem()"
   ]
  },
  {
   "cell_type": "markdown",
   "id": "890280db-8b8b-47fd-8568-57a2884fa629",
   "metadata": {
    "jp-MarkdownHeadingCollapsed": true,
    "tags": []
   },
   "source": [
    "# Ploting curves"
   ]
  },
  {
   "cell_type": "code",
   "execution_count": 288,
   "id": "53d239f8-77ef-4ce7-bd9a-c33e781052a9",
   "metadata": {},
   "outputs": [],
   "source": [
    "plot1 = BSS.Notebook.plot(process.getTime(time_series=True), process.getTemperature(time_series=True))"
   ]
  },
  {
   "cell_type": "code",
   "execution_count": 332,
   "id": "fb34b4bd-73a7-44af-8321-d7981147ebf4",
   "metadata": {},
   "outputs": [],
   "source": [
    "plot = BSS.Notebook.plot(process.getTime(time_series=True), process.getTotalEnergy(time_series=True))"
   ]
  },
  {
   "cell_type": "code",
   "execution_count": 289,
   "id": "89080f0c-8265-4b7a-812e-a4ab1ca58ad1",
   "metadata": {},
   "outputs": [],
   "source": [
    "view = BSS.Notebook.View(process)"
   ]
  },
  {
   "cell_type": "code",
   "execution_count": 290,
   "id": "c765f91a-38e1-40bb-9a2a-d85373f0a5c5",
   "metadata": {},
   "outputs": [],
   "source": [
    "view.system()"
   ]
  },
  {
   "cell_type": "code",
   "execution_count": 291,
   "id": "2eeee687-7cf1-4b3f-ae3b-7da56f06c398",
   "metadata": {},
   "outputs": [],
   "source": [
    "view.molecule(0)"
   ]
  },
  {
   "cell_type": "code",
   "execution_count": 292,
   "id": "7ec6f84e-a05b-4d21-a998-0c739df4de03",
   "metadata": {},
   "outputs": [],
   "source": [
    "view.savePDB(\"equilibrated.pdb\", index=0)"
   ]
  },
  {
   "cell_type": "markdown",
   "id": "57d5581a-88c4-4f1f-b382-a12e772c20bb",
   "metadata": {
    "jp-MarkdownHeadingCollapsed": true,
    "tags": []
   },
   "source": [
    "# NPT equlibration"
   ]
  },
  {
   "cell_type": "code",
   "execution_count": 337,
   "id": "2acb8c05-43f0-4f2a-95dc-d846a8768af1",
   "metadata": {},
   "outputs": [],
   "source": [
    "protocol = BS.Protocol.Equilibration(runtime=20*BSS.Units.Time.picosecond,\n",
    "                                      temperature_start=0*BSS.Units.Temperature.kelvin,\n",
    "                                      temperature_end=300*BSS.Units.Temperature.kelvin,\n",
    "                                      restraint=None)"
   ]
  },
  {
   "cell_type": "code",
   "execution_count": 338,
   "id": "fe421522-d0d9-44dc-a69c-5a8b6b869b67",
   "metadata": {},
   "outputs": [],
   "source": [
    "process = BS.Process.OpenMM(nvt, protocol).start()"
   ]
  },
  {
   "cell_type": "code",
   "execution_count": 339,
   "id": "5fd4d22e-4e61-4781-b520-d6c385a2cf06",
   "metadata": {},
   "outputs": [
    {
     "name": "stdout",
     "output_type": "stream",
     "text": [
      "20.0000 ps 271.5792 K -1.9709e+04 kcal/mol\n"
     ]
    }
   ],
   "source": [
    "print(process.getTime(), process.getTemperature(), process.getTotalEnergy())"
   ]
  },
  {
   "cell_type": "code",
   "execution_count": 365,
   "id": "0ee77191-33fb-4ba5-8d7d-38685fe4c339",
   "metadata": {},
   "outputs": [
    {
     "name": "stdout",
     "output_type": "stream",
     "text": [
      "20.0000 ps 271.5792 K -1.9709e+04 kcal/mol\n"
     ]
    }
   ],
   "source": [
    "print(process.getTime(), process.getTemperature(), process.getTotalEnergy())"
   ]
  },
  {
   "cell_type": "code",
   "execution_count": 366,
   "id": "08fcebaa-6de7-457c-a4a5-44e6a1abeaf9",
   "metadata": {},
   "outputs": [
    {
     "name": "stdout",
     "output_type": "stream",
     "text": [
      "0.0200 ns -1.5708 C -8.2464e+04 kJ/mol\n"
     ]
    }
   ],
   "source": [
    "print(process.getTime().nanoseconds(), process.getTemperature().celsius(), process.getTotalEnergy().kj_per_mol())"
   ]
  },
  {
   "cell_type": "code",
   "execution_count": 367,
   "id": "bea84762-3d16-4b26-818d-63bd71d48714",
   "metadata": {},
   "outputs": [],
   "source": [
    "npt= process.getSystem()"
   ]
  },
  {
   "cell_type": "code",
   "execution_count": 368,
   "id": "079660cf-6191-4ec2-9c2a-43a1baac13ad",
   "metadata": {},
   "outputs": [
    {
     "data": {
      "image/png": "[encoded data removed]",
      "text/plain": [
       "<Figure size 800x600 with 1 Axes>"
      ]
     },
     "metadata": {},
     "output_type": "display_data"
    }
   ],
   "source": [
    "plot1 = BSS.Notebook.plot(process.getTime(time_series=True), process.getTemperature(time_series=True))"
   ]
  },
  {
   "cell_type": "code",
   "execution_count": 369,
   "id": "893fd9e3-eb63-403b-8b7c-e6017be23738",
   "metadata": {},
   "outputs": [
    {
     "data": {
      "image/png": "[encoded data removed]",
      "text/plain": [
       "<Figure size 800x600 with 1 Axes>"
      ]
     },
     "metadata": {},
     "output_type": "display_data"
    }
   ],
   "source": [
    "plot = BSS.Notebook.plot(process.getTime(time_series=True), process.getTotalEnergy(time_series=True))"
   ]
  },
  {
   "cell_type": "code",
   "execution_count": 370,
   "id": "27990ff6-446d-4a38-a8c0-3e5344f3e242",
   "metadata": {},
   "outputs": [],
   "source": [
    "view = BSS.Notebook.View(process)"
   ]
  },
  {
   "cell_type": "code",
   "execution_count": 373,
   "id": "5949db0f-3ced-499a-ad49-10398f441f57",
   "metadata": {},
   "outputs": [
    {
     "data": {
      "application/vnd.jupyter.widget-view+json": {
       "model_id": "180017497ef74c6684e106b218fc9688",
       "version_major": 2,
       "version_minor": 0
      },
      "text/plain": [
       "NGLWidget(gui_style='ngl')"
      ]
     },
     "metadata": {},
     "output_type": "display_data"
    }
   ],
   "source": [
    "view.molecule(1)"
   ]
  },
  {
   "cell_type": "code",
   "execution_count": 374,
   "id": "1cada3bf-5d99-4567-a409-e1739c16c11c",
   "metadata": {},
   "outputs": [],
   "source": [
    "view.savePDB(\"equilibrated_npt.pdb\", index=0)"
   ]
  },
  {
   "cell_type": "code",
   "execution_count": 375,
   "id": "8f199ed4-cdd5-4608-aa0f-713b9126a6d7",
   "metadata": {},
   "outputs": [],
   "source": [
    "traj = process.getTrajectory()"
   ]
  },
  {
   "cell_type": "code",
   "execution_count": 376,
   "id": "1cab2f05-4823-491a-a75d-794062884e86",
   "metadata": {},
   "outputs": [
    {
     "data": {
      "text/plain": [
       "20"
      ]
     },
     "execution_count": 392,
     "metadata": {},
     "output_type": "execute_result"
    }
   ],
   "source": [
    "traj.nFrames()"
   ]
  },
  {
   "cell_type": "code",
   "execution_count": 377,
   "id": "4f333bab-9023-49c8-bccd-40c4ebe9e7ea",
   "metadata": {},
   "outputs": [],
   "source": [
    "frames = traj.getFrames()"
   ]
  },
  {
   "cell_type": "code",
   "execution_count": 378,
   "id": "8335ae88-b09d-46a3-b3df-40fb15e68c5e",
   "metadata": {},
   "outputs": [],
   "source": [
    "frames = traj.getFrames([0, -1])"
   ]
  },
  {
   "cell_type": "code",
   "execution_count": 379,
   "id": "89e601a7-0c59-4f6e-9c2b-67a8a9430c6a",
   "metadata": {},
   "outputs": [],
   "source": [
    "mdtraj = traj.getTrajectory()\n",
    "type(mdtraj)"
   ]
  }
 ],
 "metadata": {
  "kernelspec": {
   "display_name": "Python 3 (ipykernel)",
   "language": "python",
   "name": "python3"
  },
  "language_info": {
   "codemirror_mode": {
    "name": "ipython",
    "version": 3
   },
   "file_extension": ".py",
   "mimetype": "text/x-python",
   "name": "python",
   "nbconvert_exporter": "python",
   "pygments_lexer": "ipython3",
   "version": "3.9.13"
  }
 },
 "nbformat": 4,
 "nbformat_minor": 5
}
